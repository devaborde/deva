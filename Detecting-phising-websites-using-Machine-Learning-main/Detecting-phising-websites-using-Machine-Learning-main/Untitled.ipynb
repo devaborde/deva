{
 "cells": [
  {
   "cell_type": "code",
   "execution_count": 1,
   "id": "behavioral-belle",
   "metadata": {},
   "outputs": [],
   "source": [
    "import numpy as np\n",
    "import matplotlib.pyplot as plt\n",
    "import pandas as pd\n",
    "from sklearn.ensemble import RandomForestClassifier\n",
    "\n",
    "import joblib"
   ]
  },
  {
   "cell_type": "code",
   "execution_count": 2,
   "id": "grateful-shaft",
   "metadata": {},
   "outputs": [],
   "source": [
    "dataset = pd.read_csv(\"phishcoop.csv\")\n",
    "dataset = dataset.drop('id', 1)"
   ]
  },
  {
   "cell_type": "code",
   "execution_count": 3,
   "id": "assigned-statistics",
   "metadata": {},
   "outputs": [
    {
     "data": {
      "text/plain": [
       "having_IP_Address              0\n",
       "URL_Length                     0\n",
       "Shortining_Service             0\n",
       "having_At_Symbol               0\n",
       "double_slash_redirecting       0\n",
       "Prefix_Suffix                  0\n",
       "having_Sub_Domain              0\n",
       "SSLfinal_State                 0\n",
       "Domain_registeration_length    0\n",
       "Favicon                        0\n",
       "port                           0\n",
       "HTTPS_token                    0\n",
       "Request_URL                    0\n",
       "URL_of_Anchor                  0\n",
       "Links_in_tags                  0\n",
       "SFH                            0\n",
       "Submitting_to_email            1\n",
       "Abnormal_URL                   1\n",
       "Redirect                       1\n",
       "on_mouseover                   1\n",
       "RightClick                     1\n",
       "popUpWidnow                    1\n",
       "Iframe                         1\n",
       "age_of_domain                  1\n",
       "DNSRecord                      1\n",
       "web_traffic                    1\n",
       "Page_Rank                      1\n",
       "Google_Index                   1\n",
       "Links_pointing_to_page         1\n",
       "Statistical_report             1\n",
       "Result                         1\n",
       "dtype: int64"
      ]
     },
     "execution_count": 3,
     "metadata": {},
     "output_type": "execute_result"
    }
   ],
   "source": [
    "dataset.isna().sum()"
   ]
  },
  {
   "cell_type": "code",
   "execution_count": 4,
   "id": "comfortable-eugene",
   "metadata": {},
   "outputs": [
    {
     "name": "stdout",
     "output_type": "stream",
     "text": [
      "<class 'pandas.core.frame.DataFrame'>\n",
      "RangeIndex: 6993 entries, 0 to 6992\n",
      "Data columns (total 31 columns):\n",
      " #   Column                       Non-Null Count  Dtype  \n",
      "---  ------                       --------------  -----  \n",
      " 0   having_IP_Address            6993 non-null   int64  \n",
      " 1   URL_Length                   6993 non-null   int64  \n",
      " 2   Shortining_Service           6993 non-null   int64  \n",
      " 3   having_At_Symbol             6993 non-null   int64  \n",
      " 4   double_slash_redirecting     6993 non-null   int64  \n",
      " 5   Prefix_Suffix                6993 non-null   int64  \n",
      " 6   having_Sub_Domain            6993 non-null   int64  \n",
      " 7   SSLfinal_State               6993 non-null   int64  \n",
      " 8   Domain_registeration_length  6993 non-null   int64  \n",
      " 9   Favicon                      6993 non-null   int64  \n",
      " 10  port                         6993 non-null   int64  \n",
      " 11  HTTPS_token                  6993 non-null   int64  \n",
      " 12  Request_URL                  6993 non-null   int64  \n",
      " 13  URL_of_Anchor                6993 non-null   int64  \n",
      " 14  Links_in_tags                6993 non-null   int64  \n",
      " 15  SFH                          6993 non-null   int64  \n",
      " 16  Submitting_to_email          6992 non-null   float64\n",
      " 17  Abnormal_URL                 6992 non-null   float64\n",
      " 18  Redirect                     6992 non-null   float64\n",
      " 19  on_mouseover                 6992 non-null   float64\n",
      " 20  RightClick                   6992 non-null   float64\n",
      " 21  popUpWidnow                  6992 non-null   float64\n",
      " 22  Iframe                       6992 non-null   float64\n",
      " 23  age_of_domain                6992 non-null   float64\n",
      " 24  DNSRecord                    6992 non-null   float64\n",
      " 25  web_traffic                  6992 non-null   float64\n",
      " 26  Page_Rank                    6992 non-null   float64\n",
      " 27  Google_Index                 6992 non-null   float64\n",
      " 28  Links_pointing_to_page       6992 non-null   float64\n",
      " 29  Statistical_report           6992 non-null   float64\n",
      " 30  Result                       6992 non-null   float64\n",
      "dtypes: float64(15), int64(16)\n",
      "memory usage: 1.7 MB\n"
     ]
    }
   ],
   "source": [
    "dataset.info()"
   ]
  },
  {
   "cell_type": "code",
   "execution_count": 14,
   "id": "ongoing-reviewer",
   "metadata": {},
   "outputs": [],
   "source": [
    "x = dataset.iloc[ : , :-1].values\n",
    "y = dataset.iloc[:, -1:].values\n"
   ]
  },
  {
   "cell_type": "code",
   "execution_count": 15,
   "id": "binding-pierre",
   "metadata": {},
   "outputs": [],
   "source": [
    "from sklearn.model_selection import train_test_split\n",
    "x_train, x_test, y_train, y_test = train_test_split(x,y,test_size = 0.33, random_state =0)"
   ]
  },
  {
   "cell_type": "code",
   "execution_count": 24,
   "id": "burning-desktop",
   "metadata": {},
   "outputs": [
    {
     "data": {
      "image/png": "[encoded data removed]",
      "text/plain": [
       "<Figure size 432x288 with 1 Axes>"
      ]
     },
     "metadata": {
      "needs_background": "light"
     },
     "output_type": "display_data"
    }
   ],
   "source": [
    "names = dataset.iloc[:,:-1].columns\n",
    "importances =classifier.feature_importances_\n",
    "sorted_importances = sorted(importances, reverse=True)\n",
    "indices = np.argsort(-importances)\n",
    "var_imp = pd.DataFrame(sorted_importances, names[indices], columns=['importance'])\n",
    "\n",
    "plt.title(\"Variable Importances\")\n",
    "plt.barh(np.arange(len(names)), sorted_importances, height = 0.7)\n",
    "plt.yticks(np.arange(len(names)), names[indices], fontsize=7)\n",
    "plt.xlabel('Relative Importance')\n",
    "plt.show()"
   ]
  },
  {
   "cell_type": "code",
   "execution_count": 26,
   "id": "infrared-romantic",
   "metadata": {},
   "outputs": [
    {
     "name": "stderr",
     "output_type": "stream",
     "text": [
      "/home/kshitiz/python/lib/python3.6/site-packages/ipykernel_launcher.py:2: DataConversionWarning: A column-vector y was passed when a 1d array was expected. Please change the shape of y to (n_samples,), for example using ravel().\n",
      "  \n"
     ]
    },
    {
     "ename": "AttributeError",
     "evalue": "'numpy.ndarray' object has no attribute 'fillna'",
     "output_type": "error",
     "traceback": [
      "\u001b[0;31m---------------------------------------------------------------------------\u001b[0m",
      "\u001b[0;31mAttributeError\u001b[0m                            Traceback (most recent call last)",
      "\u001b[0;32m<ipython-input-26-802f69d9d4da>\u001b[0m in \u001b[0;36m<module>\u001b[0;34m\u001b[0m\n\u001b[1;32m      2\u001b[0m \u001b[0mclassifier\u001b[0m\u001b[0;34m.\u001b[0m\u001b[0mfit\u001b[0m\u001b[0;34m(\u001b[0m\u001b[0mx_train\u001b[0m\u001b[0;34m,\u001b[0m \u001b[0my_train\u001b[0m\u001b[0;34m)\u001b[0m\u001b[0;34m\u001b[0m\u001b[0;34m\u001b[0m\u001b[0m\n\u001b[1;32m      3\u001b[0m \u001b[0;34m\u001b[0m\u001b[0m\n\u001b[0;32m----> 4\u001b[0;31m \u001b[0mx_test\u001b[0m \u001b[0;34m=\u001b[0m \u001b[0mx_test\u001b[0m\u001b[0;34m.\u001b[0m\u001b[0mfillna\u001b[0m\u001b[0;34m(\u001b[0m\u001b[0mx_train\u001b[0m\u001b[0;34m.\u001b[0m\u001b[0mmean\u001b[0m\u001b[0;34m(\u001b[0m\u001b[0;34m)\u001b[0m\u001b[0;34m)\u001b[0m\u001b[0;34m\u001b[0m\u001b[0;34m\u001b[0m\u001b[0m\n\u001b[0m\u001b[1;32m      5\u001b[0m \u001b[0;34m\u001b[0m\u001b[0m\n\u001b[1;32m      6\u001b[0m \u001b[0;34m\u001b[0m\u001b[0m\n",
      "\u001b[0;31mAttributeError\u001b[0m: 'numpy.ndarray' object has no attribute 'fillna'"
     ]
    }
   ],
   "source": [
    "classifier = RandomForestClassifier(n_estimators = 100, criterion = \"gini\", max_features = 'log2',  random_state = 0)\n",
    "classifier.fit(x_train, y_train)\n",
    "\n",
    "x_test = x_test.fillna(x_train.mean())\n",
    "\n",
    "\n",
    "#predicting the tests set result\n",
    "y_pred = classifier.predict(x_test)\n",
    "\n",
    "#confusion matrix\n",
    "from sklearn.metrics import confusion_matrix\n",
    "cm = confusion_matrix(y_test, y_pred)\n",
    "print(cm)"
   ]
  },
  {
   "cell_type": "code",
   "execution_count": null,
   "id": "canadian-berlin",
   "metadata": {},
   "outputs": [],
   "source": []
  }
 ],
 "metadata": {
  "kernelspec": {
   "display_name": "Python 3",
   "language": "python",
   "name": "python3"
  },
  "language_info": {
   "codemirror_mode": {
    "name": "ipython",
    "version": 3
   },
   "file_extension": ".py",
   "mimetype": "text/x-python",
   "name": "python",
   "nbconvert_exporter": "python",
   "pygments_lexer": "ipython3",
   "version": "3.6.9"
  }
 },
 "nbformat": 4,
 "nbformat_minor": 5
}
